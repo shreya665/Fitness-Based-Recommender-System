{
 "cells": [
  {
   "cell_type": "code",
   "execution_count": null,
   "id": "595462e9",
   "metadata": {},
   "outputs": [
    {
     "name": "stdout",
     "output_type": "stream",
     "text": [
      "\n",
      "🧍 Enter your details to get a personalized fitness plan:\n",
      "\n"
     ]
    }
   ],
   "source": [
    "import pandas as pd\n",
    "from sklearn.neighbors import KNeighborsClassifier\n",
    "from sklearn.preprocessing import LabelEncoder\n",
    "\n",
    "# Load data\n",
    "df = pd.read_csv(\"C:/Users/ansss/OneDrive/Desktop/Project dataset BMI.csv\")\n",
    "df = pd.read_csv(\"C:/Users/ansss/OneDrive/Desktop/Project dataset nutrition.csv\")\n",
    "df = df.dropna()\n",
    "\n",
    "# Encode gender\n",
    "le_gender = LabelEncoder()\n",
    "df['Gender'] = le_gender.fit_transform(df['Gender'])\n",
    "\n",
    "# Encode recommendations\n",
    "diet_encoder = LabelEncoder()\n",
    "df['Diet_Label'] = diet_encoder.fit_transform(df['Diet_Recommendation'])\n",
    "\n",
    "workout_encoder = LabelEncoder()\n",
    "df['Workout_Label'] = workout_encoder.fit_transform(df['workout'])\n",
    "\n",
    "nutrition_encoder = LabelEncoder()\n",
    "df['Nutrition_Label'] = nutrition_encoder.fit_transform(df['nutrition'])\n",
    "\n",
    "# Feature set\n",
    "features = df[['Age', 'Gender', 'Weight_kg', 'Height_cm', 'BMI']]\n",
    "\n",
    "# Train KNN models\n",
    "diet_model = KNeighborsClassifier(n_neighbors=3)\n",
    "diet_model.fit(features, df['Diet_Label'])\n",
    "\n",
    "workout_model = KNeighborsClassifier(n_neighbors=3)\n",
    "workout_model.fit(features, df['Workout_Label'])\n",
    "\n",
    "nutrition_model = KNeighborsClassifier(n_neighbors=3)\n",
    "nutrition_model.fit(features, df['Nutrition_Label'])\n",
    "\n",
    "# Recommender function\n",
    "def get_recommendations():\n",
    "    print(\"\\n🧍 Enter your details to get a personalized fitness plan:\\n\")\n",
    "    try:\n",
    "        age = int(input(\"Age: \"))\n",
    "        gender = input(\"Gender (Male/Female): \").capitalize()\n",
    "        weight = float(input(\"Weight (kg): \"))\n",
    "        height = float(input(\"Height (cm): \"))\n",
    "        bmi = round(weight / ((height / 100) ** 2), 1)\n",
    "        print(f\"📏 Calculated BMI: {bmi}\")\n",
    "\n",
    "        gender_encoded = le_gender.transform([gender])[0]\n",
    "        user_input = [[age, gender_encoded, weight, height, bmi]]\n",
    "\n",
    "        # Predict recommendations\n",
    "        diet = diet_encoder.inverse_transform([diet_model.predict(user_input)[0]])[0]\n",
    "        workout = workout_encoder.inverse_transform([workout_model.predict(user_input)[0]])[0]\n",
    "        nutrition = nutrition_encoder.inverse_transform([nutrition_model.predict(user_input)[0]])[0]\n",
    "\n",
    "        # Show results\n",
    "        print(\"\\n✅ Your Personalized Recommendations:\")\n",
    "        print(f\"🥗 Diet Plan: {diet}\")\n",
    "        print(f\"🏋 Workout Plan: {workout}\")\n",
    "        print(f\"🍎 Nutrition Guide:\\n{nutrition}\")\n",
    "\n",
    "    except Exception as e:\n",
    "        print(\"❌ Error:\", e)\n",
    "        print(\"Please check your inputs and try again.\")\n",
    "\n",
    "# Run\n",
    "get_recommendations()\n"
   ]
  }
 ],
 "metadata": {
  "kernelspec": {
   "display_name": "Python 3",
   "language": "python",
   "name": "python3"
  },
  "language_info": {
   "codemirror_mode": {
    "name": "ipython",
    "version": 3
   },
   "file_extension": ".py",
   "mimetype": "text/x-python",
   "name": "python",
   "nbconvert_exporter": "python",
   "pygments_lexer": "ipython3",
   "version": "3.13.0"
  }
 },
 "nbformat": 4,
 "nbformat_minor": 5
}
